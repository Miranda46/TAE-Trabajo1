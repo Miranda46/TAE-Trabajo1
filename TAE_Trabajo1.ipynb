{
  "nbformat": 4,
  "nbformat_minor": 0,
  "metadata": {
    "colab": {
      "name": "TAE-Trabajo1.ipynb",
      "provenance": [],
      "authorship_tag": "ABX9TyPp+wtCBpqydM/soyfnDH2g",
      "include_colab_link": true
    },
    "kernelspec": {
      "name": "python3",
      "display_name": "Python 3"
    },
    "language_info": {
      "name": "python"
    }
  },
  "cells": [
    {
      "cell_type": "markdown",
      "metadata": {
        "id": "view-in-github",
        "colab_type": "text"
      },
      "source": [
        "<a href=\"https://colab.research.google.com/github/Miranda46/TAE-Trabajo1/blob/main/TAE_Trabajo1.ipynb\" target=\"_parent\"><img src=\"https://colab.research.google.com/assets/colab-badge.svg\" alt=\"Open In Colab\"/></a>"
      ]
    },
    {
      "cell_type": "code",
      "execution_count": null,
      "metadata": {
        "id": "V6ySIs7nx0-W"
      },
      "outputs": [],
      "source": []
    }
  ]
}